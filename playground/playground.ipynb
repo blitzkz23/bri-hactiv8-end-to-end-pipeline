{
 "cells": [
  {
   "cell_type": "code",
   "execution_count": 1,
   "metadata": {},
   "outputs": [],
   "source": [
    "import wget\n",
    "base_url = 'https://d37ci6vzurychx.cloudfront.net/trip-data/yellow_tripdata_2023'"
   ]
  },
  {
   "cell_type": "code",
   "execution_count": 2,
   "metadata": {},
   "outputs": [
    {
     "name": "stdout",
     "output_type": "stream",
     "text": [
      "Downloaded: yellow_tripdata_2023-01.parquet\n",
      "Downloaded: yellow_tripdata_2023-02.parquet\n",
      "Downloaded: yellow_tripdata_2023-03.parquet\n",
      "Downloaded: yellow_tripdata_2023-04.parquet\n",
      "Downloaded: yellow_tripdata_2023-05.parquet\n",
      "Downloaded: yellow_tripdata_2023-06.parquet\n",
      "Downloaded: yellow_tripdata_2023-07.parquet\n",
      "Downloaded: yellow_tripdata_2023-08.parquet\n",
      "Downloaded: yellow_tripdata_2023-09.parquet\n",
      "Downloaded: yellow_tripdata_2023-10.parquet\n",
      "Downloaded: yellow_tripdata_2023-11.parquet\n",
      "Failed to download https://d37ci6vzurychx.cloudfront.net/trip-data/yellow_tripdata_2023-12.parquet: HTTP Error 403: Forbidden\n"
     ]
    }
   ],
   "source": [
    "for month in range(1, 12):\n",
    "    # Format the month and day to have leading zeros if needed\n",
    "    month_str = str(month).zfill(2)\n",
    "    \n",
    "    # Construct the URL for the file\n",
    "    url = f\"{base_url}-{month_str}.parquet\"\n",
    "    try:\n",
    "            # Download the file\n",
    "            filename = wget.download(url)\n",
    "            print(f\"Downloaded: {filename}\")\n",
    "    except Exception as e:\n",
    "            print(f\"Failed to download {url}: {e}\")"
   ]
  },
  {
   "cell_type": "code",
   "execution_count": 3,
   "metadata": {},
   "outputs": [],
   "source": [
    "url = \"https://s3.amazonaws.com/tripdata/201306-citibike-tripdata.zip\"\n",
    "filename = wget.download(url)"
   ]
  },
  {
   "cell_type": "code",
   "execution_count": null,
   "metadata": {},
   "outputs": [],
   "source": []
  }
 ],
 "metadata": {
  "kernelspec": {
   "display_name": "base",
   "language": "python",
   "name": "python3"
  },
  "language_info": {
   "codemirror_mode": {
    "name": "ipython",
    "version": 3
   },
   "file_extension": ".py",
   "mimetype": "text/x-python",
   "name": "python",
   "nbconvert_exporter": "python",
   "pygments_lexer": "ipython3",
   "version": "3.11.5"
  }
 },
 "nbformat": 4,
 "nbformat_minor": 2
}
